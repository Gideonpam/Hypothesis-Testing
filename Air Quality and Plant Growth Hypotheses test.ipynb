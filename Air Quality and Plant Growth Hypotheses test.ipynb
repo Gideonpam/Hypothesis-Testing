{
 "cells": [
  {
   "cell_type": "markdown",
   "id": "84378876-3e1e-44d0-8418-fe37166ed696",
   "metadata": {},
   "source": [
    "# ONE-SAMPLE HYPOTHESES TEST ON AIR QUALITY AND PLANT GROWTH\n",
    "\n",
    "# Problem Statement\n",
    "Does improved air quality in urban areas lead to higher plant growth rates?\n",
    "\n",
    "# Steps for One-sample Hypotheses Test\n",
    "1. Defind the Hypotheses\n",
    "    - Null Hypotheses and\n",
    "    - Alternative Hypotheses\n",
    "2. Collect Data\n",
    "3. Choose the test\n",
    "4. Set the significance level\n",
    "5. Perform the test\n",
    "6. Interpret Results"
   ]
  },
  {
   "cell_type": "code",
   "execution_count": 3,
   "id": "6dd8cc17-d525-4eb2-897a-c83f07482d41",
   "metadata": {},
   "outputs": [
    {
     "name": "stdout",
     "output_type": "stream",
     "text": [
      "Sample Mean: 7.509475824025729\n",
      "T-Statistic: -4.339407634512737\n",
      "P-Value: 0.00022282713943917002\n",
      "Reject the null hypothesis: Improved Air quality leads to higher plant growth rates\n"
     ]
    }
   ],
   "source": [
    "import numpy as np # NUMPY LIBRARY TO STIMULATE SAMPLE DATA (IT CAN BE REPLACE WITH REAL AIR QUALITY DATA)\n",
    "from scipy.stats import ttest_1samp # PERFORM THE ONE-SAMPLE T-TEST\n",
    "\n",
    "population_mean = 10 #TIS REPRESENT HYPOTHESIZED AIR QUALITY MEAN\n",
    "\n",
    "np.random.seed(42) # FOR REPRODUCIVITY\n",
    "sample_data = np.random.normal(loc = 8, scale = 3, size = 25) # STIMULATE DATA WITH LOWER MEAN AIR QUALITY\n",
    "\n",
    "t_statistic, p_value = ttest_1samp(sample_data, population_mean) # COMPARE THE SAMPLE DATA AGAINST HYPOTHESIZED MEAN \n",
    "\n",
    "alpha = 0.05 # IF THE P-VALUE IS LESS THAN THIS THEN WE REJECT THE HYPOTHESIS\n",
    "\n",
    "print(f\"Sample Mean: {np.mean(sample_data)}\") \n",
    "print(f\"T-Statistic: {t_statistic}\") # SHOWS HOW FAR THE SAMPLE MEAN IS FROM THE HYPOTHESIZED MEAN\n",
    "print(f\"P-Value: {p_value}\") # INDICATES THE PROBABILITY OF OBSERVING SUCH RESULTS UNDER THE NULL HYPOTHESIS\n",
    "\n",
    "if p_value < alpha:\n",
    "    print(\"Reject the null hypothesis: Improved Air quality leads to higher plant growth rates\")\n",
    "else:\n",
    "    print(\"Fail to reject the null hypothesis: No evidence that improved air quality leads to higher plant growth rate.\")"
   ]
  },
  {
   "cell_type": "code",
   "execution_count": null,
   "id": "97e9522e-9398-4902-8b7c-5bbf107fc71c",
   "metadata": {},
   "outputs": [],
   "source": []
  }
 ],
 "metadata": {
  "kernelspec": {
   "display_name": "Python 3 (ipykernel)",
   "language": "python",
   "name": "python3"
  },
  "language_info": {
   "codemirror_mode": {
    "name": "ipython",
    "version": 3
   },
   "file_extension": ".py",
   "mimetype": "text/x-python",
   "name": "python",
   "nbconvert_exporter": "python",
   "pygments_lexer": "ipython3",
   "version": "3.12.7"
  }
 },
 "nbformat": 4,
 "nbformat_minor": 5
}
